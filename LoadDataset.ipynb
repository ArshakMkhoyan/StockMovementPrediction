{
 "cells": [
  {
   "cell_type": "code",
   "execution_count": null,
   "metadata": {},
   "outputs": [],
   "source": [
    "import pandas_datareader as pdr\n",
    "\n",
    "def stock_price(Company:str, start, end):\n",
    "    '''Return stock price data from Finance.yahoo'''\n",
    "    stock=[Company]\n",
    "    df = pdr.DataReader(stock, 'yahoo', start, end)\n",
    "    df.columns=['High', 'Low', 'Open', 'Close', 'Volume', 'Adj Close']\n",
    "    return df "
   ]
  }
 ],
 "metadata": {
  "kernelspec": {
   "display_name": "Python 3",
   "language": "python",
   "name": "python3"
  },
  "language_info": {
   "codemirror_mode": {
    "name": "ipython",
    "version": 3
   },
   "file_extension": ".py",
   "mimetype": "text/x-python",
   "name": "python",
   "nbconvert_exporter": "python",
   "pygments_lexer": "ipython3",
   "version": "3.6.5"
  }
 },
 "nbformat": 4,
 "nbformat_minor": 2
}
