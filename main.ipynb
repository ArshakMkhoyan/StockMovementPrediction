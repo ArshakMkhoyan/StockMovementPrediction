{
 "cells": [
  {
   "cell_type": "code",
   "execution_count": 1,
   "metadata": {},
   "outputs": [
    {
     "name": "stderr",
     "output_type": "stream",
     "text": [
      "Using TensorFlow backend.\n"
     ]
    }
   ],
   "source": [
    "from TechnicalIndicators import get_TI\n",
    "from DataPreprocessing import *\n",
    "from Model import LSTM_model\n",
    "from LoadData import stock_price\n",
    "from FundamentalIndicators import get_FI_for_model\n",
    "from matplotlib import pyplot"
   ]
  },
  {
   "cell_type": "markdown",
   "metadata": {},
   "source": [
    "Model works good enough with VIX, DXY, but it needs to converge, achives 55.3% with val loss of .6897"
   ]
  },
  {
   "cell_type": "code",
   "execution_count": 19,
   "metadata": {
    "collapsed": true
   },
   "outputs": [
    {
     "name": "stdout",
     "output_type": "stream",
     "text": [
      "Train X shape: (5515, 5, 9)\n",
      "Train Y shape: (5515,) \n",
      "Test X shape:(955, 5, 9) \n",
      "Test Y shape: (955,)\n",
      "\n",
      "Proportion of Target variable. \n",
      "Test set: 0.499 \n",
      "Train set: 0.5025\n",
      "\n",
      "Train on 5515 samples, validate on 955 samples\n",
      "Epoch 1/90\n",
      "5515/5515 [==============================] - 4s 648us/step - loss: 0.6935 - acc: 0.5128 - val_loss: 0.6934 - val_acc: 0.5079\n",
      "Epoch 2/90\n",
      "5515/5515 [==============================] - 2s 327us/step - loss: 0.6941 - acc: 0.5066 - val_loss: 0.6932 - val_acc: 0.4932\n",
      "Epoch 3/90\n",
      "5515/5515 [==============================] - 2s 279us/step - loss: 0.6928 - acc: 0.5151 - val_loss: 0.6931 - val_acc: 0.5141\n",
      "Epoch 4/90\n",
      "5515/5515 [==============================] - 2s 304us/step - loss: 0.6918 - acc: 0.5177 - val_loss: 0.6930 - val_acc: 0.5058\n",
      "Epoch 5/90\n",
      "5515/5515 [==============================] - 2s 313us/step - loss: 0.6922 - acc: 0.5113 - val_loss: 0.6930 - val_acc: 0.5288\n",
      "Epoch 6/90\n",
      "5515/5515 [==============================] - 2s 320us/step - loss: 0.6935 - acc: 0.5046 - val_loss: 0.6930 - val_acc: 0.5319\n",
      "Epoch 7/90\n",
      "5515/5515 [==============================] - 2s 301us/step - loss: 0.6930 - acc: 0.5115 - val_loss: 0.6930 - val_acc: 0.5309\n",
      "Epoch 8/90\n",
      "5515/5515 [==============================] - 2s 342us/step - loss: 0.6928 - acc: 0.5126 - val_loss: 0.6931 - val_acc: 0.5319\n",
      "Epoch 9/90\n",
      "5515/5515 [==============================] - 1s 254us/step - loss: 0.6920 - acc: 0.5197 - val_loss: 0.6930 - val_acc: 0.5089\n",
      "Epoch 10/90\n",
      "5515/5515 [==============================] - 1s 250us/step - loss: 0.6923 - acc: 0.5131 - val_loss: 0.6931 - val_acc: 0.5309\n",
      "Epoch 11/90\n",
      "5515/5515 [==============================] - 1s 247us/step - loss: 0.6918 - acc: 0.5251 - val_loss: 0.6930 - val_acc: 0.5215\n",
      "Epoch 12/90\n",
      "5515/5515 [==============================] - 1s 252us/step - loss: 0.6923 - acc: 0.5155 - val_loss: 0.6931 - val_acc: 0.5340\n",
      "Epoch 13/90\n",
      "5515/5515 [==============================] - 1s 250us/step - loss: 0.6919 - acc: 0.5189 - val_loss: 0.6930 - val_acc: 0.5204\n",
      "Epoch 14/90\n",
      "5515/5515 [==============================] - 1s 250us/step - loss: 0.6924 - acc: 0.5197 - val_loss: 0.6931 - val_acc: 0.5340\n",
      "Epoch 15/90\n",
      "5515/5515 [==============================] - 1s 255us/step - loss: 0.6923 - acc: 0.5124 - val_loss: 0.6930 - val_acc: 0.5257\n",
      "Epoch 16/90\n",
      "5515/5515 [==============================] - 1s 253us/step - loss: 0.6915 - acc: 0.5255 - val_loss: 0.6931 - val_acc: 0.5309\n",
      "Epoch 17/90\n",
      "5515/5515 [==============================] - 1s 251us/step - loss: 0.6918 - acc: 0.5248 - val_loss: 0.6931 - val_acc: 0.5298\n",
      "Epoch 18/90\n",
      "5515/5515 [==============================] - 1s 252us/step - loss: 0.6915 - acc: 0.5231 - val_loss: 0.6931 - val_acc: 0.5319\n",
      "Epoch 19/90\n",
      "5515/5515 [==============================] - 1s 253us/step - loss: 0.6916 - acc: 0.5266 - val_loss: 0.6931 - val_acc: 0.5288\n",
      "Epoch 20/90\n",
      "5515/5515 [==============================] - 1s 250us/step - loss: 0.6915 - acc: 0.5269 - val_loss: 0.6930 - val_acc: 0.5225\n",
      "Epoch 21/90\n",
      "5515/5515 [==============================] - 1s 253us/step - loss: 0.6921 - acc: 0.5224 - val_loss: 0.6931 - val_acc: 0.5309\n",
      "Epoch 22/90\n",
      "5515/5515 [==============================] - 1s 248us/step - loss: 0.6912 - acc: 0.5267 - val_loss: 0.6931 - val_acc: 0.5288\n",
      "Epoch 23/90\n",
      "5515/5515 [==============================] - 1s 250us/step - loss: 0.6912 - acc: 0.5253 - val_loss: 0.6929 - val_acc: 0.5183\n",
      "Epoch 24/90\n",
      "5515/5515 [==============================] - 1s 253us/step - loss: 0.6913 - acc: 0.5315 - val_loss: 0.6929 - val_acc: 0.5215\n",
      "Epoch 25/90\n",
      "5515/5515 [==============================] - 1s 251us/step - loss: 0.6910 - acc: 0.5257 - val_loss: 0.6930 - val_acc: 0.5267\n",
      "Epoch 26/90\n",
      "5515/5515 [==============================] - 1s 248us/step - loss: 0.6912 - acc: 0.5316 - val_loss: 0.6930 - val_acc: 0.5267\n",
      "Epoch 27/90\n",
      "5515/5515 [==============================] - 1s 252us/step - loss: 0.6909 - acc: 0.5331 - val_loss: 0.6929 - val_acc: 0.5236\n",
      "Epoch 28/90\n",
      "5515/5515 [==============================] - 1s 252us/step - loss: 0.6909 - acc: 0.5309 - val_loss: 0.6928 - val_acc: 0.5215\n",
      "Epoch 29/90\n",
      "5515/5515 [==============================] - 1s 251us/step - loss: 0.6906 - acc: 0.5347 - val_loss: 0.6927 - val_acc: 0.5215\n",
      "Epoch 30/90\n",
      "5515/5515 [==============================] - 1s 251us/step - loss: 0.6912 - acc: 0.5244 - val_loss: 0.6928 - val_acc: 0.5277\n",
      "Epoch 31/90\n",
      "5515/5515 [==============================] - 1s 248us/step - loss: 0.6909 - acc: 0.5311 - val_loss: 0.6927 - val_acc: 0.5246\n",
      "Epoch 32/90\n",
      "5515/5515 [==============================] - 1s 252us/step - loss: 0.6907 - acc: 0.5275 - val_loss: 0.6927 - val_acc: 0.5246\n",
      "Epoch 33/90\n",
      "5515/5515 [==============================] - 1s 252us/step - loss: 0.6907 - acc: 0.5284 - val_loss: 0.6927 - val_acc: 0.5257\n",
      "Epoch 34/90\n",
      "5515/5515 [==============================] - 1s 252us/step - loss: 0.6903 - acc: 0.5342 - val_loss: 0.6928 - val_acc: 0.5225\n",
      "Epoch 35/90\n",
      "5515/5515 [==============================] - 1s 251us/step - loss: 0.6907 - acc: 0.5271 - val_loss: 0.6927 - val_acc: 0.5236\n",
      "Epoch 36/90\n",
      "5515/5515 [==============================] - 1s 256us/step - loss: 0.6902 - acc: 0.5338 - val_loss: 0.6926 - val_acc: 0.5236\n",
      "Epoch 37/90\n",
      "5515/5515 [==============================] - 1s 253us/step - loss: 0.6896 - acc: 0.5315 - val_loss: 0.6926 - val_acc: 0.5277\n",
      "Epoch 38/90\n",
      "5515/5515 [==============================] - 1s 254us/step - loss: 0.6898 - acc: 0.5440 - val_loss: 0.6924 - val_acc: 0.5277\n",
      "Epoch 39/90\n",
      "5515/5515 [==============================] - 1s 253us/step - loss: 0.6901 - acc: 0.5358 - val_loss: 0.6925 - val_acc: 0.5225\n",
      "Epoch 40/90\n",
      "5515/5515 [==============================] - 1s 252us/step - loss: 0.6900 - acc: 0.5331 - val_loss: 0.6925 - val_acc: 0.5288\n",
      "Epoch 41/90\n",
      "5515/5515 [==============================] - 1s 252us/step - loss: 0.6896 - acc: 0.5382 - val_loss: 0.6924 - val_acc: 0.5267\n",
      "Epoch 42/90\n",
      "5515/5515 [==============================] - 1s 251us/step - loss: 0.6898 - acc: 0.5380 - val_loss: 0.6925 - val_acc: 0.5393\n",
      "Epoch 43/90\n",
      "5515/5515 [==============================] - 1s 253us/step - loss: 0.6895 - acc: 0.5429 - val_loss: 0.6922 - val_acc: 0.5382\n",
      "Epoch 44/90\n",
      "5515/5515 [==============================] - 1s 257us/step - loss: 0.6893 - acc: 0.5385 - val_loss: 0.6923 - val_acc: 0.5361\n",
      "Epoch 45/90\n",
      "5515/5515 [==============================] - 1s 253us/step - loss: 0.6891 - acc: 0.5434 - val_loss: 0.6923 - val_acc: 0.5382\n",
      "Epoch 46/90\n",
      "5515/5515 [==============================] - 1s 253us/step - loss: 0.6894 - acc: 0.5454 - val_loss: 0.6923 - val_acc: 0.5330\n",
      "Epoch 47/90\n",
      "5515/5515 [==============================] - 1s 252us/step - loss: 0.6893 - acc: 0.5364 - val_loss: 0.6923 - val_acc: 0.5330\n",
      "Epoch 48/90\n",
      "5515/5515 [==============================] - 1s 252us/step - loss: 0.6902 - acc: 0.5416 - val_loss: 0.6925 - val_acc: 0.5403\n",
      "Epoch 49/90\n",
      "5515/5515 [==============================] - 1s 253us/step - loss: 0.6892 - acc: 0.5409 - val_loss: 0.6920 - val_acc: 0.5351\n",
      "Epoch 50/90\n",
      "5515/5515 [==============================] - 1s 251us/step - loss: 0.6892 - acc: 0.5387 - val_loss: 0.6923 - val_acc: 0.5445\n",
      "Epoch 51/90\n",
      "5515/5515 [==============================] - 1s 255us/step - loss: 0.6884 - acc: 0.5443 - val_loss: 0.6923 - val_acc: 0.5445\n",
      "Epoch 52/90\n",
      "5515/5515 [==============================] - 1s 254us/step - loss: 0.6886 - acc: 0.5463 - val_loss: 0.6921 - val_acc: 0.5403\n",
      "Epoch 53/90\n",
      "5515/5515 [==============================] - 1s 251us/step - loss: 0.6894 - acc: 0.5414 - val_loss: 0.6922 - val_acc: 0.5435\n",
      "Epoch 54/90\n",
      "5515/5515 [==============================] - 1s 252us/step - loss: 0.6885 - acc: 0.5420 - val_loss: 0.6922 - val_acc: 0.5466\n",
      "Epoch 55/90\n",
      "5515/5515 [==============================] - 1s 252us/step - loss: 0.6885 - acc: 0.5480 - val_loss: 0.6921 - val_acc: 0.5466\n",
      "Epoch 56/90\n",
      "5515/5515 [==============================] - 1s 252us/step - loss: 0.6886 - acc: 0.5427 - val_loss: 0.6921 - val_acc: 0.5435\n",
      "Epoch 57/90\n",
      "5515/5515 [==============================] - 1s 252us/step - loss: 0.6883 - acc: 0.5391 - val_loss: 0.6922 - val_acc: 0.5393\n",
      "Epoch 58/90\n",
      "5515/5515 [==============================] - 1s 254us/step - loss: 0.6880 - acc: 0.5460 - val_loss: 0.6923 - val_acc: 0.5403\n",
      "Epoch 59/90\n"
     ]
    },
    {
     "name": "stdout",
     "output_type": "stream",
     "text": [
      "5515/5515 [==============================] - 1s 251us/step - loss: 0.6885 - acc: 0.5440 - val_loss: 0.6923 - val_acc: 0.5445\n",
      "Epoch 60/90\n",
      "5515/5515 [==============================] - 1s 254us/step - loss: 0.6889 - acc: 0.5414 - val_loss: 0.6924 - val_acc: 0.5487\n",
      "Epoch 61/90\n",
      "5515/5515 [==============================] - 1s 251us/step - loss: 0.6878 - acc: 0.5445 - val_loss: 0.6924 - val_acc: 0.5403\n",
      "Epoch 62/90\n",
      "5515/5515 [==============================] - 1s 251us/step - loss: 0.6881 - acc: 0.5456 - val_loss: 0.6924 - val_acc: 0.5455\n",
      "Epoch 63/90\n",
      "5515/5515 [==============================] - 1s 256us/step - loss: 0.6880 - acc: 0.5474 - val_loss: 0.6923 - val_acc: 0.5382\n",
      "Epoch 64/90\n",
      "5515/5515 [==============================] - 1s 252us/step - loss: 0.6879 - acc: 0.5432 - val_loss: 0.6922 - val_acc: 0.5361\n",
      "Epoch 65/90\n",
      "5515/5515 [==============================] - 1s 252us/step - loss: 0.6884 - acc: 0.5393 - val_loss: 0.6922 - val_acc: 0.5330\n",
      "Epoch 66/90\n",
      "5515/5515 [==============================] - 1s 252us/step - loss: 0.6885 - acc: 0.5394 - val_loss: 0.6922 - val_acc: 0.5424\n",
      "Epoch 67/90\n",
      "5515/5515 [==============================] - 1s 252us/step - loss: 0.6879 - acc: 0.5351 - val_loss: 0.6920 - val_acc: 0.5351\n",
      "Epoch 68/90\n",
      "5515/5515 [==============================] - 1s 251us/step - loss: 0.6878 - acc: 0.5418 - val_loss: 0.6922 - val_acc: 0.5445\n",
      "Epoch 69/90\n",
      "5515/5515 [==============================] - 1s 252us/step - loss: 0.6881 - acc: 0.5414 - val_loss: 0.6924 - val_acc: 0.5382\n",
      "Epoch 70/90\n",
      "5515/5515 [==============================] - 1s 253us/step - loss: 0.6877 - acc: 0.5432 - val_loss: 0.6923 - val_acc: 0.5403\n",
      "Epoch 71/90\n",
      "5515/5515 [==============================] - 1s 250us/step - loss: 0.6879 - acc: 0.5431 - val_loss: 0.6923 - val_acc: 0.5393\n",
      "Epoch 72/90\n",
      "5515/5515 [==============================] - 1s 256us/step - loss: 0.6877 - acc: 0.5469 - val_loss: 0.6922 - val_acc: 0.5414\n",
      "Epoch 73/90\n",
      "5515/5515 [==============================] - 1s 251us/step - loss: 0.6877 - acc: 0.5445 - val_loss: 0.6923 - val_acc: 0.5435\n",
      "Epoch 74/90\n",
      "5515/5515 [==============================] - 1s 251us/step - loss: 0.6868 - acc: 0.5458 - val_loss: 0.6925 - val_acc: 0.5393\n",
      "Epoch 75/90\n",
      "5515/5515 [==============================] - 1s 250us/step - loss: 0.6871 - acc: 0.5478 - val_loss: 0.6923 - val_acc: 0.5382\n",
      "Epoch 76/90\n",
      "5515/5515 [==============================] - 1s 251us/step - loss: 0.6882 - acc: 0.5429 - val_loss: 0.6922 - val_acc: 0.5340\n",
      "Epoch 77/90\n",
      "5515/5515 [==============================] - 1s 249us/step - loss: 0.6877 - acc: 0.5471 - val_loss: 0.6925 - val_acc: 0.5309\n",
      "Epoch 78/90\n",
      "5515/5515 [==============================] - 1s 251us/step - loss: 0.6875 - acc: 0.5422 - val_loss: 0.6924 - val_acc: 0.5424\n",
      "Epoch 79/90\n",
      "5515/5515 [==============================] - 1s 251us/step - loss: 0.6872 - acc: 0.5447 - val_loss: 0.6924 - val_acc: 0.5393\n",
      "Epoch 80/90\n",
      "5515/5515 [==============================] - 1s 254us/step - loss: 0.6877 - acc: 0.5456 - val_loss: 0.6924 - val_acc: 0.5424\n",
      "Epoch 81/90\n",
      "5515/5515 [==============================] - 1s 252us/step - loss: 0.6871 - acc: 0.5451 - val_loss: 0.6923 - val_acc: 0.5455\n",
      "Epoch 82/90\n",
      "5515/5515 [==============================] - 1s 253us/step - loss: 0.6866 - acc: 0.5472 - val_loss: 0.6922 - val_acc: 0.5351\n",
      "Epoch 83/90\n",
      "5515/5515 [==============================] - 1s 252us/step - loss: 0.6865 - acc: 0.5530 - val_loss: 0.6923 - val_acc: 0.5393\n",
      "Epoch 84/90\n",
      "5515/5515 [==============================] - 1s 251us/step - loss: 0.6864 - acc: 0.5481 - val_loss: 0.6925 - val_acc: 0.5361\n",
      "Epoch 85/90\n",
      "5515/5515 [==============================] - 1s 234us/step - loss: 0.6867 - acc: 0.5447 - val_loss: 0.6926 - val_acc: 0.5382\n",
      "Epoch 86/90\n",
      "5515/5515 [==============================] - 1s 250us/step - loss: 0.6869 - acc: 0.5509 - val_loss: 0.6923 - val_acc: 0.5372\n",
      "Epoch 87/90\n",
      "5515/5515 [==============================] - 1s 252us/step - loss: 0.6871 - acc: 0.5443 - val_loss: 0.6925 - val_acc: 0.5372\n",
      "Epoch 88/90\n",
      "5515/5515 [==============================] - 1s 251us/step - loss: 0.6858 - acc: 0.5523 - val_loss: 0.6925 - val_acc: 0.5361\n",
      "Epoch 89/90\n",
      "5515/5515 [==============================] - 1s 249us/step - loss: 0.6859 - acc: 0.5472 - val_loss: 0.6926 - val_acc: 0.5330\n",
      "Epoch 90/90\n",
      "5515/5515 [==============================] - 1s 252us/step - loss: 0.6869 - acc: 0.5476 - val_loss: 0.6924 - val_acc: 0.5288\n"
     ]
    }
   ],
   "source": [
    "Company = 'XOM'\n",
    "df = stock_price(Company, \"1992-12-31\", \"2018-12-31\")\n",
    "\n",
    "batch_size = 30 #30, 50\n",
    "n_days = 5 #5, 7\n",
    "\n",
    "# df = get_FI_for_model(df)\n",
    "df = get_TI(df)\n",
    "\n",
    "(reframed_train_x, reframed_train_y), (reframed_test_x, reframed_test_y) = ready_data(df, split_ratio=0.85, batch_size=batch_size, n_days=n_days)\n",
    "\n",
    "history, model = LSTM_model(reframed_train_x, reframed_train_y, reframed_test_x, reframed_test_y, n_days, batch_size, epochs=90)"
   ]
  },
  {
   "cell_type": "code",
   "execution_count": null,
   "metadata": {},
   "outputs": [],
   "source": [
    "model.evaluate(reframed_test_x, reframed_test_y)"
   ]
  },
  {
   "cell_type": "code",
   "execution_count": 22,
   "metadata": {},
   "outputs": [],
   "source": [
    "pyplot.plot(history.history['loss'][:], label='train')\n",
    "pyplot.plot(history.history['val_loss'][:], label='test')\n",
    "pyplot.title('Loss')\n",
    "pyplot.legend()\n",
    "pyplot.show()"
   ]
  },
  {
   "cell_type": "code",
   "execution_count": 21,
   "metadata": {},
   "outputs": [
    {
     "data": {
      "image/png": "[encoded data removed]",
      "text/plain": [
       "<Figure size 432x288 with 1 Axes>"
      ]
     },
     "metadata": {
      "needs_background": "light"
     },
     "output_type": "display_data"
    }
   ],
   "source": [
    "pyplot.plot(history.history['acc'][:], label='train')\n",
    "pyplot.plot(history.history['val_acc'][:], label='test')\n",
    "pyplot.title('Accuracy')\n",
    "pyplot.legend()\n",
    "pyplot.show()"
   ]
  },
  {
   "cell_type": "code",
   "execution_count": null,
   "metadata": {},
   "outputs": [],
   "source": [
    "model.summary()"
   ]
  },
  {
   "cell_type": "code",
   "execution_count": null,
   "metadata": {},
   "outputs": [],
   "source": []
  }
 ],
 "metadata": {
  "kernelspec": {
   "display_name": "Python 3",
   "language": "python",
   "name": "python3"
  },
  "language_info": {
   "codemirror_mode": {
    "name": "ipython",
    "version": 3
   },
   "file_extension": ".py",
   "mimetype": "text/x-python",
   "name": "python",
   "nbconvert_exporter": "python",
   "pygments_lexer": "ipython3",
   "version": "3.6.5"
  }
 },
 "nbformat": 4,
 "nbformat_minor": 2
}
